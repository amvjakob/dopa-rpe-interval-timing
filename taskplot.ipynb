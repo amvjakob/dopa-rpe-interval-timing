{
 "cells": [
  {
   "cell_type": "code",
   "execution_count": 1,
   "metadata": {},
   "outputs": [],
   "source": [
    "using Plots, LaTeXStrings"
   ]
  },
  {
   "cell_type": "code",
   "execution_count": 2,
   "metadata": {},
   "outputs": [
    {
     "data": {
      "image/png": "[encoded data removed]"
     },
     "execution_count": 2,
     "metadata": {},
     "output_type": "execute_result"
    }
   ],
   "source": [
    "pyplot()\n",
    "\n",
    "fontsize = 9\n",
    "getfont(txt) = text(txt, fontsize)\n",
    "ypos = 0.2\n",
    "\n",
    "vlines = [-2, 0, 3.3, 7, 10.5]\n",
    "vlines_str = [\"\", \"0\", \"3.3\", \"7\", \"17\"]\n",
    "\n",
    "# horizontal lines\n",
    "plot([0, maximum(vlines)], [0, 0], color=:black, linewidth=2, label=\"\")\n",
    "plot!([minimum(vlines), 0], [0, 0], color=:black, linewidth=2, linestyle=:dash, label=\"\")\n",
    "\n",
    "# vertical lines\n",
    "xpos = minimum(vlines)\n",
    "plot!([xpos, xpos], [-0.1, 1], color=:black, linewidth=2, label=\"\")\n",
    "annotate!(-1, 1.8*ypos, getfont(\"Random\\ndelay\"))\n",
    "\n",
    "plot!([0, 0], [-0.1, 1], color=:black, linewidth=2, label=\"\")\n",
    "annotate!(1.65, ypos, getfont(\"Early window\"))\n",
    "\n",
    "plot!([3.3, 3.3], [-0.1, 1], color=:black, linewidth=2, label=\"\")\n",
    "annotate!(5.15, ypos, getfont(\"Reward window\"))\n",
    "\n",
    "plot!([7, 7], [-0.1, 1], color=:black, linewidth=2, label=\"\")\n",
    "annotate!(8.75, ypos, getfont(\"ITI\"))\n",
    "\n",
    "xpos = maximum(vlines)\n",
    "plot!([xpos, xpos], [-0.1, 1], color=:black, linewidth=2, label=\"\")\n",
    "\n",
    "# Event names\n",
    "annotate!(minimum(vlines), 1+ypos, getfont(\"Lamp-off\"))\n",
    "annotate!(0, 1+ypos, getfont(\"Cue\"))\n",
    "annotate!(7, 1+ypos, getfont(\"Lamp-on\"))\n",
    "\n",
    "# Annotate random delay thing\n",
    "annotate!(minimum(vlines), -0.45, getfont(\"-0.4 to -1.5\"))\n",
    "\n",
    "plot!(\n",
    "    size=(500, 100),\n",
    "    xticks=(vlines, vlines_str),\n",
    "    xlim=(minimum(vlines)-1, maximum(vlines)+0.1),\n",
    "    ylim=(-ypos, 1.5),\n",
    "    yaxis=nothing,\n",
    "    foreground_color_border=nothing,\n",
    "    tickfont=font(fontsize),\n",
    "    linewidth=2,\n",
    "    grid=:off)"
   ]
  },
  {
   "cell_type": "code",
   "execution_count": null,
   "metadata": {},
   "outputs": [],
   "source": []
  }
 ],
 "metadata": {
  "kernelspec": {
   "display_name": "Julia 1.6.2",
   "language": "julia",
   "name": "julia-1.6"
  },
  "language_info": {
   "file_extension": ".jl",
   "mimetype": "application/julia",
   "name": "julia",
   "version": "1.6.2"
  }
 },
 "nbformat": 4,
 "nbformat_minor": 4
}
